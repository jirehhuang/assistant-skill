{
 "cells": [
  {
   "cell_type": "markdown",
   "metadata": {},
   "source": [
    "# Assistant Skill"
   ]
  },
  {
   "cell_type": "code",
   "execution_count": null,
   "metadata": {},
   "outputs": [],
   "source": [
    "import os\n",
    "import re\n",
    "import requests\n",
    "import json\n",
    "import openai\n",
    "from dotenv import load_dotenv\n",
    "\n",
    "\n",
    "## Retrieve environment variables\n",
    "load_dotenv()\n",
    "openai.api_key = os.getenv(\"OPENAI_API_KEY\")\n",
    "MEALIE_API_KEY = os.getenv(\"MEALIE_API_KEY\")\n",
    "MEALIE_URL = os.getenv(\"MEALIE_URL\")\n",
    "MEALIE_LIST_ID = os.getenv(\"MEALIE_LIST_ID\")"
   ]
  },
  {
   "cell_type": "markdown",
   "metadata": {},
   "source": [
    "## Mealie"
   ]
  },
  {
   "cell_type": "code",
   "execution_count": 8,
   "metadata": {},
   "outputs": [],
   "source": [
    "## Headers for authentication\n",
    "MEALIE_HEADERS = {\n",
    "    \"Authorization\": f\"Bearer {MEALIE_API_KEY}\",\n",
    "    \"Content-Type\": \"application/json\"\n",
    "}"
   ]
  },
  {
   "cell_type": "markdown",
   "metadata": {},
   "source": [
    "### Add [item] (to shopping list)"
   ]
  },
  {
   "cell_type": "code",
   "execution_count": 9,
   "metadata": {},
   "outputs": [
    {
     "data": {
      "text/plain": [
       "[{'name': 'List', 'id': '56fb8d06-18b6-4d8a-abba-6afec00930d6'}]"
      ]
     },
     "execution_count": 9,
     "metadata": {},
     "output_type": "execute_result"
    }
   ],
   "source": [
    "## Get all Mealie shopping lists\n",
    "response = requests.get(f\"{MEALIE_URL}/households/shopping/lists\", headers=MEALIE_HEADERS)\n",
    "lists = response.json()[\"items\"]\n",
    "[{\"name\": list[\"name\"], \"id\": list[\"id\"]} for list in lists]"
   ]
  },
  {
   "cell_type": "code",
   "execution_count": 11,
   "metadata": {},
   "outputs": [
    {
     "name": "stdout",
     "output_type": "stream",
     "text": [
      "Successfully added: tomatoes\n"
     ]
    }
   ],
   "source": [
    "payload = {\n",
    "  \"shoppingListId\": MEALIE_LIST_ID,\n",
    "  \"note\": \"tomatoes\"\n",
    "}\n",
    "\n",
    "response = requests.post(f\"{MEALIE_URL}/households/shopping/items\", headers=MEALIE_HEADERS, data=json.dumps(payload))\n",
    "\n",
    "if response.status_code == 201:\n",
    "    print(f\"Successfully added: {payload['note']}\")\n",
    "else:\n",
    "    print(f\"Failed to add {payload['note']}: {response.status_code}, {response.text}\")"
   ]
  },
  {
   "cell_type": "code",
   "execution_count": 12,
   "metadata": {},
   "outputs": [],
   "source": [
    "query = \"add 1 cup of sugar\""
   ]
  },
  {
   "cell_type": "code",
   "execution_count": 16,
   "metadata": {},
   "outputs": [],
   "source": [
    "def add_to_mealie_list(query):\n",
    "    try:\n",
    "        ## Extract the item from the query\n",
    "        item = re.sub(r\"add\\s+\", \"\", query, flags=re.I).strip()\n",
    "\n",
    "        ## Create the payload for the API request\n",
    "        payload = {\n",
    "            \"shoppingListId\": MEALIE_LIST_ID,\n",
    "            \"note\": item\n",
    "        }\n",
    "\n",
    "        ## Send the request to add the item to the shopping list\n",
    "        response = requests.post(f\"{MEALIE_URL}/households/shopping/items\", \n",
    "                                 headers=MEALIE_HEADERS, data=json.dumps(payload))\n",
    "\n",
    "        if response.status_code == 201:\n",
    "            return f\"Successfully added {item}\"\n",
    "        else:\n",
    "            return f\"Unsuccessful adding {item}: {response.status_code}, {response.text}\"\n",
    "        \n",
    "    except Exception as e:\n",
    "        return f\"Error occurred: {str(e)}\""
   ]
  }
 ],
 "metadata": {
  "kernelspec": {
   "display_name": "Python 3",
   "language": "python",
   "name": "python3"
  },
  "language_info": {
   "codemirror_mode": {
    "name": "ipython",
    "version": 3
   },
   "file_extension": ".py",
   "mimetype": "text/x-python",
   "name": "python",
   "nbconvert_exporter": "python",
   "pygments_lexer": "ipython3",
   "version": "3.13.2"
  }
 },
 "nbformat": 4,
 "nbformat_minor": 2
}
