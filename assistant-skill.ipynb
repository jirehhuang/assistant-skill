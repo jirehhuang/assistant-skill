{
 "cells": [
  {
   "cell_type": "markdown",
   "metadata": {},
   "source": [
    "# Assistant Skill"
   ]
  },
  {
   "cell_type": "code",
   "execution_count": 185,
   "metadata": {},
   "outputs": [],
   "source": [
    "import requests\n",
    "import os\n",
    "import re\n",
    "import json\n",
    "import openai\n",
    "from dotenv import load_dotenv\n",
    "\n",
    "\n",
    "## Retrieve environment variables\n",
    "load_dotenv()\n",
    "\n",
    "openai.api_key = OPENAI_API_KEY = os.getenv(\"OPENAI_API_KEY\")\n",
    "OPENROUTER_API_KEY = os.getenv(\"OPENROUTER_API_KEY\")\n",
    "\n",
    "MEALIE_API_KEY = os.getenv(\"MEALIE_API_KEY\")\n",
    "MEALIE_URL = os.getenv(\"MEALIE_URL\")\n",
    "MEALIE_LIST_ID = os.getenv(\"MEALIE_LIST_ID\")\n",
    "\n",
    "NOTION_API_KEY = os.getenv(\"NOTION_API_KEY\")\n",
    "NOTION_DATABASE_ID_TASKS = os.getenv(\"NOTION_DATABASE_ID_TASKS\")\n",
    "NOTION_TASK_ID_GENERAL = os.getenv(\"NOTION_TASK_ID_GENERAL\")\n",
    "NOTION_TASK_ID_CHATS = os.getenv(\"NOTION_TASK_ID_CHATS\")\n",
    "\n",
    "## Headers for authentication\n",
    "OPENAI_HEADERS = {\n",
    "    \"Authorization\": f\"Bearer {OPENAI_API_KEY}\",\n",
    "    \"Content-Type\": \"application/json\"\n",
    "}\n",
    "OPENROUTER_HEADERS = {\n",
    "    \"Authorization\": f\"Bearer {OPENROUTER_API_KEY}\",\n",
    "    \"Content-Type\": \"application/json\"\n",
    "}\n",
    "MEALIE_HEADERS = {\n",
    "    \"Authorization\": f\"Bearer {MEALIE_API_KEY}\",\n",
    "    \"Content-Type\": \"application/json\"\n",
    "}\n",
    "NOTION_HEADERS = {\n",
    "    \"Authorization\": f\"Bearer {NOTION_API_KEY}\",\n",
    "    \"Content-Type\": \"application/json\",\n",
    "    \"Notion-Version\": \"2022-06-28\"\n",
    "}\n",
    "\n",
    "## API settings for selected model\n",
    "# MODEL = \"gpt-4o-mini\"\n",
    "# MODEL = \"nvidia/llama-3.1-nemotron-ultra-253b-v1:free\"\n",
    "MODEL = \"google/gemini-2.0-flash-thinking-exp:free\"\n",
    "\n",
    "if MODEL == \"gpt-4o-mini\":\n",
    "    MODEL_API_URL = \"https://api.openrouter.ai/v1/generate\"\n",
    "    MODEL_HEADERS = OPENAI_HEADERS\n",
    "else:\n",
    "    MODEL_API_URL = \"https://openrouter.ai/api/v1/chat/completions\"\n",
    "    MODEL_HEADERS = OPENROUTER_HEADERS"
   ]
  },
  {
   "cell_type": "markdown",
   "metadata": {},
   "source": [
    "### Add Item to Mealie List"
   ]
  },
  {
   "cell_type": "code",
   "execution_count": 125,
   "metadata": {},
   "outputs": [
    {
     "data": {
      "text/plain": [
       "[{'name': 'List', 'id': '56fb8d06-18b6-4d8a-abba-6afec00930d6'}]"
      ]
     },
     "execution_count": 125,
     "metadata": {},
     "output_type": "execute_result"
    }
   ],
   "source": [
    "## Get all Mealie shopping lists\n",
    "response = requests.get(f\"{MEALIE_URL}/households/shopping/lists\", headers=MEALIE_HEADERS)\n",
    "lists = response.json()[\"items\"]\n",
    "[{\"name\": list[\"name\"], \"id\": list[\"id\"]} for list in lists]"
   ]
  },
  {
   "cell_type": "code",
   "execution_count": 126,
   "metadata": {},
   "outputs": [
    {
     "name": "stdout",
     "output_type": "stream",
     "text": [
      "Successfully added: tomatoes\n"
     ]
    }
   ],
   "source": [
    "payload = {\n",
    "  \"shoppingListId\": MEALIE_LIST_ID,\n",
    "  \"note\": \"tomatoes\"\n",
    "}\n",
    "\n",
    "response = requests.post(f\"{MEALIE_URL}/households/shopping/items\", headers=MEALIE_HEADERS, data=json.dumps(payload))\n",
    "\n",
    "if response.status_code == 201:\n",
    "    print(f\"Successfully added: {payload['note']}\")\n",
    "else:\n",
    "    print(f\"Failed to add {payload['note']}: {response.status_code}, {response.text}\")"
   ]
  },
  {
   "cell_type": "code",
   "execution_count": 127,
   "metadata": {},
   "outputs": [],
   "source": [
    "def add_to_mealie_list(item):\n",
    "    try:\n",
    "        ## Create the payload for the API request\n",
    "        payload = {\n",
    "            \"shoppingListId\": MEALIE_LIST_ID,\n",
    "            \"note\": item\n",
    "        }\n",
    "\n",
    "        ## Send the request to add the item to the shopping list\n",
    "        response = requests.post(f\"{MEALIE_URL}/households/shopping/items\", \n",
    "                                 headers=MEALIE_HEADERS, data=json.dumps(payload))\n",
    "\n",
    "        if response.status_code == 201:\n",
    "            return f\"Successfully added {item}\"\n",
    "        else:\n",
    "            return f\"Unsuccessful adding {item}: {response.status_code}, {response.text}\"\n",
    "        \n",
    "    except Exception as e:\n",
    "        return f\"Error occurred: {str(e)}\""
   ]
  },
  {
   "cell_type": "code",
   "execution_count": 128,
   "metadata": {},
   "outputs": [
    {
     "data": {
      "text/plain": [
       "'Successfully added 1 cup of sugar'"
      ]
     },
     "execution_count": 128,
     "metadata": {},
     "output_type": "execute_result"
    }
   ],
   "source": [
    "query = \"add 1 cup of sugar\"\n",
    "item = re.sub(r\"^add\\s+\", \"\", query, flags=re.I).strip()\n",
    "\n",
    "add_to_mealie_list(item)"
   ]
  },
  {
   "cell_type": "markdown",
   "metadata": {},
   "source": [
    "### Add Item to Notion Database"
   ]
  },
  {
   "cell_type": "code",
   "execution_count": null,
   "metadata": {},
   "outputs": [],
   "source": [
    "def create_notion_task(title, parent_page_id=NOTION_TASK_ID_GENERAL):\n",
    "    try:\n",
    "        # Create the payload for the API request\n",
    "        payload = {\n",
    "            \"parent\": {\"database_id\": NOTION_DATABASE_ID_TASKS},\n",
    "            \"properties\": {\n",
    "                \"Name\": {\n",
    "                    \"title\": [\n",
    "                        {\n",
    "                            \"text\": {\n",
    "                                \"content\": title\n",
    "                            }\n",
    "                        }\n",
    "                    ]\n",
    "                },\n",
    "                \"Parent task\": {\n",
    "                    \"relation\": [\n",
    "                        {\n",
    "                            \"id\": parent_page_id\n",
    "                        }\n",
    "                    ]\n",
    "                }\n",
    "            }\n",
    "        }\n",
    "\n",
    "        # Send the request to create the page\n",
    "        response = requests.post(\"https://api.notion.com/v1/pages\", \n",
    "                                 headers=NOTION_HEADERS, \n",
    "                                 data=json.dumps(payload))\n",
    "\n",
    "        if response.status_code == 200:\n",
    "            page_id = response.json().get(\"id\")\n",
    "            print(f\"Page '{title}' created successfully with ID: {page_id}.\")\n",
    "            return page_id\n",
    "        else:\n",
    "            print(f\"Failed to create page '{title}': {response.status_code}, {response.text}\")\n",
    "            return None\n",
    "    except Exception as e:\n",
    "        print(f\"Error occurred: {str(e)}\")\n",
    "        return None"
   ]
  },
  {
   "cell_type": "code",
   "execution_count": 200,
   "metadata": {},
   "outputs": [
    {
     "name": "stdout",
     "output_type": "stream",
     "text": [
      "Page 'This is a test' created successfully with ID: 1d5c90df-924f-81f4-a92b-d2b709a4a97c.\n"
     ]
    },
    {
     "data": {
      "text/plain": [
       "'1d5c90df-924f-81f4-a92b-d2b709a4a97c'"
      ]
     },
     "execution_count": 200,
     "metadata": {},
     "output_type": "execute_result"
    }
   ],
   "source": [
    "create_notion_task(\"This is a test\")"
   ]
  },
  {
   "cell_type": "code",
   "execution_count": 206,
   "metadata": {},
   "outputs": [],
   "source": [
    "def find_or_create_notion_task(title, parent_page_id=NOTION_TASK_ID_GENERAL):\n",
    "    try:\n",
    "        # Search for a page with the same title and parent task\n",
    "        query_payload = {\n",
    "            \"filter\": {\n",
    "                \"and\": [\n",
    "                    {\n",
    "                        \"property\": \"Name\",\n",
    "                        \"title\": {\n",
    "                            \"equals\": title\n",
    "                        }\n",
    "                    },\n",
    "                    {\n",
    "                        \"property\": \"Parent task\",\n",
    "                        \"relation\": {\n",
    "                            \"contains\": parent_page_id\n",
    "                        }\n",
    "                    }\n",
    "                ]\n",
    "            }\n",
    "        }\n",
    "\n",
    "        # Send the request to search for the page\n",
    "        search_response = requests.post(f\"https://api.notion.com/v1/databases/{NOTION_DATABASE_ID_TASKS}/query\",\n",
    "                                        headers=NOTION_HEADERS,\n",
    "                                        data=json.dumps(query_payload))\n",
    "\n",
    "        if search_response.status_code == 200:\n",
    "            results = search_response.json().get(\"results\", [])\n",
    "            if results:\n",
    "                page_id = results[0][\"id\"]\n",
    "                print(f\"Page '{title}' already exists with ID: {page_id}.\")\n",
    "                return page_id\n",
    "            else:\n",
    "                print(f\"No existing page found for title '{title}'. Creating a new one.\")\n",
    "        else:\n",
    "            print(f\"Failed to search for page '{title}': {search_response.status_code}, {search_response.text}\")\n",
    "            return None\n",
    "\n",
    "        # Create the page if it doesn't exist\n",
    "        return create_notion_task(title, parent_page_id)\n",
    "\n",
    "    except Exception as e:\n",
    "        print(f\"Error occurred: {str(e)}\")\n",
    "        return None"
   ]
  },
  {
   "cell_type": "code",
   "execution_count": 207,
   "metadata": {},
   "outputs": [
    {
     "name": "stdout",
     "output_type": "stream",
     "text": [
      "Page 'This is a test' already exists with ID: 1d5c90df-924f-81f4-a92b-d2b709a4a97c.\n"
     ]
    },
    {
     "data": {
      "text/plain": [
       "'1d5c90df-924f-81f4-a92b-d2b709a4a97c'"
      ]
     },
     "execution_count": 207,
     "metadata": {},
     "output_type": "execute_result"
    }
   ],
   "source": [
    "find_or_create_notion_task(\"This is a test\")"
   ]
  },
  {
   "cell_type": "markdown",
   "metadata": {},
   "source": [
    "### Smart add to Mealie or Notion"
   ]
  },
  {
   "cell_type": "code",
   "execution_count": null,
   "metadata": {},
   "outputs": [],
   "source": [
    "def smart_add_item(input_value):\n",
    "    try:\n",
    "        ## Define the prompt\n",
    "        prompt = f\"\"\"\n",
    "        You are a smart assistant. Analyze the following input and split it into individual items or tasks. \n",
    "        For each item or task, determine if it is a shopping item or a task. \n",
    "        Respond with a JSON array where each element is a dictionary with \"function\" and \"item\" attributes.\n",
    "        The output format should be a raw JSON array without formatting (such as code block) that can be interpretable with json.loads().\n",
    "        \"function\" should be \"add_to_mealie_list\" for shopping items and \"create_notion_task\" for tasks.\n",
    "        Input: \"{input_value}\"\n",
    "        \"\"\"\n",
    "\n",
    "        ## Call model to analyze the input\n",
    "        payload = {\n",
    "            \"model\": MODEL,\n",
    "            \"messages\": [{\"role\": \"user\", \"content\": prompt}]\n",
    "        }\n",
    "        response = requests.post(MODEL_API_URL, \n",
    "                                 headers=MODEL_HEADERS, data=json.dumps(payload))\n",
    "\n",
    "        if response.status_code != 200:\n",
    "            return f\"Error calling {payload['model']}: {response.status_code}, {response.text}\"\n",
    "\n",
    "        ## Parse the response\n",
    "        gpt_response = response.json()\n",
    "        gpt_content = gpt_response[\"choices\"][0][\"message\"][\"content\"]\n",
    "        decisions = json.loads(gpt_content)\n",
    "        print(decisions)\n",
    "\n",
    "        mealie_items = []\n",
    "        notion_items = []\n",
    "\n",
    "        ## Execute the appropriate function for each decision\n",
    "        for decision in decisions:\n",
    "            if decision[\"function\"] == \"add_to_mealie_list\":\n",
    "                add_to_mealie_list(decision[\"item\"])\n",
    "                mealie_items.append(decision[\"item\"])\n",
    "            elif decision[\"function\"] == \"create_notion_task\":\n",
    "                create_notion_task(decision[\"item\"])  # Create regardless of existing task\n",
    "                notion_items.append(decision[\"item\"])\n",
    "            print(f\"Decision: {decision['function']} - {decision['item']}\")\n",
    "\n",
    "        ## Construct the result string\n",
    "        mealie_str = f\"added {', '.join(mealie_items)} to mealie\" if mealie_items else \"\"\n",
    "        notion_str = f\"added {', '.join(notion_items)} to notion\" if notion_items else \"\"\n",
    "        result_str = \" and \".join(filter(None, [mealie_str, notion_str]))\n",
    "\n",
    "        return result_str\n",
    "\n",
    "    except Exception as e:\n",
    "        return f\"Error occurred: {str(e)}\""
   ]
  },
  {
   "cell_type": "code",
   "execution_count": 205,
   "metadata": {},
   "outputs": [
    {
     "name": "stdout",
     "output_type": "stream",
     "text": [
      "[{'function': 'add_to_mealie_list', 'item': '3 potatoes'}, {'function': 'create_notion_task', 'item': 'mow the lawn'}, {'function': 'create_notion_task', 'item': 'file taxes'}, {'function': 'add_to_mealie_list', 'item': 'oranges and lemons'}]\n",
      "Decision: add_to_mealie_list - 3 potatoes\n",
      "Page 'mow the lawn' already exists with ID: 1d5c90df-924f-813a-8647-dc02a4fb8a42.\n",
      "Decision: create_notion_task - mow the lawn\n",
      "Page 'file taxes' already exists with ID: 1d5c90df-924f-8167-90d0-ea152be11317.\n",
      "Decision: create_notion_task - file taxes\n",
      "Decision: add_to_mealie_list - oranges and lemons\n"
     ]
    },
    {
     "data": {
      "text/plain": [
       "'added 3 potatoes, oranges and lemons to mealie and added mow the lawn, file taxes to notion'"
      ]
     },
     "execution_count": 205,
     "metadata": {},
     "output_type": "execute_result"
    }
   ],
   "source": [
    "query = \"add 3 potatoes and mow the lawn, and I need to file taxes and pick up oranges and lemons\"\n",
    "input_value = re.sub(r\"^add\\s+\", \"\", query, flags=re.I).strip()\n",
    "        \n",
    "smart_add_item(input_value)"
   ]
  },
  {
   "cell_type": "markdown",
   "metadata": {},
   "source": [
    "### Save Chat Session"
   ]
  },
  {
   "cell_type": "code",
   "execution_count": null,
   "metadata": {},
   "outputs": [],
   "source": [
    "def save_chat_history_to_notion(page_id=None, chat_history=[]):\n",
    "    \"\"\"\n",
    "    Save chat history to a Notion page.\n",
    "    \"\"\"\n",
    "    try:\n",
    "        if not chat_history:\n",
    "            return \"No chat history provided to save.\"\n",
    "        if page_id is None:\n",
    "            page_id = find_or_create_notion_task(f\"Session {chat_history[0][0]}\", parent_page_id=NOTION_TASK_ID_CHATS)\n",
    "\n",
    "        ## Fetch existing content from the Notion page\n",
    "        response = requests.get(f\"https://api.notion.com/v1/blocks/{page_id}/children\", headers=NOTION_HEADERS)\n",
    "        if response.status_code != 200:\n",
    "            return f\"Failed to fetch page content: {response.status_code}, {response.text}\"\n",
    "        \n",
    "        existing_content = response.json()\n",
    "        existing_texts = set()\n",
    "        for block in existing_content.get(\"results\", []):\n",
    "            if block[\"type\"] == \"paragraph\" and block[\"paragraph\"][\"rich_text\"]:\n",
    "                existing_texts.add(block[\"paragraph\"][\"rich_text\"][0][\"text\"][\"content\"])\n",
    "        \n",
    "        ## Prepare new chat history to add\n",
    "        new_blocks = []\n",
    "        for timestamp, query, speak_output in chat_history:\n",
    "            try:\n",
    "                # Create main block for the timestamp\n",
    "                if timestamp not in existing_texts:  # Avoid duplicates\n",
    "                    new_blocks.append({\n",
    "                        \"object\": \"block\",\n",
    "                        \"type\": \"paragraph\",\n",
    "                        \"paragraph\": {\n",
    "                            \"rich_text\": [{\"type\": \"text\", \"text\": {\"content\": timestamp}}],\n",
    "                            \"children\": [\n",
    "                                {\n",
    "                                    \"object\": \"block\",\n",
    "                                    \"type\": \"paragraph\",\n",
    "                                    \"paragraph\": {\n",
    "                                        \"rich_text\": [\n",
    "                                            {\n",
    "                                                \"type\": \"text\",\n",
    "                                                \"text\": {\n",
    "                                                \"content\": query\n",
    "                                                },\n",
    "                                                \"annotations\": {\n",
    "                                                \"bold\": True,\n",
    "                                                \"italic\": True\n",
    "                                                }\n",
    "                                            }\n",
    "                                        ]\n",
    "                                    }\n",
    "                                },\n",
    "                                {\n",
    "                                    \"object\": \"block\",\n",
    "                                    \"type\": \"paragraph\",\n",
    "                                    \"paragraph\": {\n",
    "                                        \"rich_text\": [{\"type\": \"text\", \"text\": {\"content\": f\"{speak_output}\"}}]\n",
    "                                    }\n",
    "                                }\n",
    "                            ]\n",
    "                        }\n",
    "                    })\n",
    "            except Exception as e:\n",
    "                return f\"Error processing chat history entry: {str(e)}\"\n",
    "        \n",
    "        if not new_blocks:\n",
    "            return f\"{page_id}\"\n",
    "        \n",
    "        ## Add new chat history to the Notion page\n",
    "        payload = {\"children\": new_blocks}\n",
    "        response = requests.patch(f\"https://api.notion.com/v1/blocks/{page_id}/children\", \n",
    "                                  headers=NOTION_HEADERS, data=json.dumps(payload))\n",
    "        \n",
    "        if response.status_code == 200:\n",
    "            return f\"{page_id}\"\n",
    "        else:\n",
    "            return f\"Error updating page: {response.status_code}, {response.text}\"\n",
    "    \n",
    "    except Exception as e:\n",
    "        return f\"Error occurred: {str(e)}\"\n"
   ]
  },
  {
   "cell_type": "code",
   "execution_count": 193,
   "metadata": {},
   "outputs": [
    {
     "name": "stdout",
     "output_type": "stream",
     "text": [
      "Page 'Session 2025-04-14 03:05:05' already exists with ID: 1d5c90df-924f-81be-b99e-dda66e16767a.\n"
     ]
    },
    {
     "data": {
      "text/plain": [
       "'No new chat history to add to page 1d5c90df-924f-81be-b99e-dda66e16767a.'"
      ]
     },
     "execution_count": 193,
     "metadata": {},
     "output_type": "execute_result"
    }
   ],
   "source": [
    "chat_history = [['2025-04-14 03:05:05', 'what are you', 'I am a large language model, trained by Google.'], ['2025-04-14 03:05:20', 'add oranges and lemons', 'added oranges, lemons to mealie'], ['2025-04-14 03:05:26', \"what's the weather in Sunnyvale\", 'Sunnyvale weather: ☀️ 68°F, Clear. Today: ☀️ High 75°F, Low 55°F.'], ['2025-04-14 03:05:33', \"what is today's date\", 'Today is Monday, April 14, 2025.'], ['2025-04-14 03:05:43', 'what time zone are you operating on', 'I do not operate on a specific time zone. Timestamps are based on your local time.'], ['2025-04-14 03:05:53', 'what time is it', 'It is 3:06 AM.'], ['2025-04-14 03:06:02', 'I am in california though', 'Understood. The time and date information provided is based on California local time.'], ['2025-04-14 03:06:11', 'what is the date and time in california', 'It is Monday, April 14, 2025 at 3:06 AM in California.'], ['2025-04-14 03:06:22', \"no it's not\", 'I apologize for the confusion. Could you please clarify what you believe I am?'], ['2025-04-14 03:06:46', \"I mean that it's not 306 a.m. in california\", 'You are right. My apologies, there seems to be a time discrepancy. Could you please provide the current time in California?'], ['2025-04-14 03:06:55', '806 p.m.', 'Thank you for the correction! It is currently 8:06 PM in California.'], ['2025-04-14 03:07:03', 'what is the date time right now', 'It is Monday, April 14, 2025 at 3:07 AM.'], ['2025-04-14 03:07:14', 'I literally just told you the time though', 'You are absolutely right! My apologies. You did mention the time.\\n\\nBased on your previous message, it is currently 8:06 PM in California. Thank you for the correction.'], ['2025-04-14 03:07:33', \"how many R's are in strawberry\", 'There are three R\\'s in \"strawberry\".']]\n",
    "\n",
    "save_chat_history_to_notion(chat_history=chat_history)"
   ]
  },
  {
   "cell_type": "code",
   "execution_count": 191,
   "metadata": {},
   "outputs": [
    {
     "data": {
      "text/plain": [
       "'Successfully saved chat history to page 1d5c90df-924f-81be-b99e-dda66e16767a'"
      ]
     },
     "execution_count": 191,
     "metadata": {},
     "output_type": "execute_result"
    }
   ],
   "source": [
    "chat_history2 = [['2025-04-14 03:05:05', 'what are you', 'I am a large language model, trained by Google.'], ['2025-04-14 03:05:20', 'add oranges and lemons', 'added oranges, lemons to mealie'], ['2025-04-14 03:05:26', \"what's the weather in Sunnyvale\", 'Sunnyvale weather: ☀️ 68°F, Clear. Today: ☀️ High 75°F, Low 55°F.'], ['2025-04-14 03:05:33', \"what is today's date\", 'Today is Monday, April 14, 2025.'], ['2025-04-14 03:05:43', 'what time zone are you operating on', 'I do not operate on a specific time zone. Timestamps are based on your local time.'], ['2025-04-14 03:05:53', 'what time is it', 'It is 3:06 AM.'], ['2025-04-14 03:06:02', 'I am in california though', 'Understood. The time and date information provided is based on California local time.'], ['2025-04-14 03:06:11', 'what is the date and time in california', 'It is Monday, April 14, 2025 at 3:06 AM in California.'], ['2025-04-14 03:06:22', \"no it's not\", 'I apologize for the confusion. Could you please clarify what you believe I am?'], ['2025-04-14 03:06:46', \"I mean that it's not 306 a.m. in california\", 'You are right. My apologies, there seems to be a time discrepancy. Could you please provide the current time in California?'], ['2025-04-14 03:06:55', '806 p.m.', 'Thank you for the correction! It is currently 8:06 PM in California.'], ['2025-04-14 03:07:03', 'what is the date time right now', 'It is Monday, April 14, 2025 at 3:07 AM.'], ['2025-04-14 03:07:14', 'I literally just told you the time though', 'You are absolutely right! My apologies. You did mention the time.\\n\\nBased on your previous message, it is currently 8:06 PM in California. Thank you for the correction.'], ['2025-04-14 03:07:33', \"how many R's are in strawberry\", 'There are three R\\'s in \"strawberry\".'], ['2025-04-14 03:07:34', \"how many R's are in strawberry\", 'There are three R\\'s in \"strawberry\".']]\n",
    "\n",
    "save_chat_history_to_notion(page_id = \"1d5c90df-924f-81be-b99e-dda66e16767a\", chat_history=chat_history2)"
   ]
  },
  {
   "cell_type": "markdown",
   "metadata": {},
   "source": [
    "### Read shopping list"
   ]
  },
  {
   "cell_type": "code",
   "execution_count": 181,
   "metadata": {},
   "outputs": [
    {
     "name": "stdout",
     "output_type": "stream",
     "text": [
      "{\"page\":1,\"per_page\":100,\"total\":25,\"total_pages\":1,\"items\":[{\"quantity\":1.0,\"unit\":null,\"food\":null,\"note\":\"baby wipes\",\"isFood\":false,\"disableAmount\":true,\"display\":\"baby wipes\",\"shoppingListId\":\"56fb8d06-18b6-4d8a-abba-6afec00930d6\",\"checked\":false,\"position\":0,\"foodId\":null,\"labelId\":null,\"unitId\":null,\"extras\":{},\"id\":\"6cc8ea3e-f2a5-4db6-8047-e8373769c138\",\"groupId\":\"97cd1a62-a4f0-4de5-815d-3882fef2d948\",\"householdId\":\"7ad19b33-562d-40fd-9d92-4b350bebfb6d\",\"label\":null,\"recipeReferences\":[],\"createdAt\":\"2025-04-13T23:44:31.705944Z\",\"updatedAt\":\"2025-04-13T23:44:31.705946Z\"},{\"quantity\":0.0,\"unit\":null,\"food\":{\"id\":\"e8a4abb2-7166-4d97-9d2e-9b90b33565f1\",\"name\":\"tomato paste\",\"pluralName\":null,\"description\":\"\",\"extras\":{},\"labelId\":\"ce00345c-210e-4c35-9cb9-77350eddfdc7\",\"aliases\":[],\"householdsWithIngredientFood\":[\"huang-household\"],\"label\":{\"name\":\"Canned\",\"color\":\"#CD853F\",\"groupId\":\"97cd1a62-a4f0-4de5-815d-3882fef2d948\",\"id\":\"ce00345c-210e-4c35-9cb9-77350eddfdc7\"},\"createdAt\":\"2025-03-26T05:32:33.775546Z\",\"updatedAt\":\"2025-03-26T05:32:33.775547Z\"},\"note\":\"tube, Walmart\",\"isFood\":true,\"disableAmount\":false,\"display\":\"tomato paste tube, Walmart\",\"shoppingListId\":\"56fb8d06-18b6-4d8a-abba-6afec00930d6\",\"checked\":false,\"position\":3,\"foodId\":\"e8a4abb2-7166-4d97-9d2e-9b90b33565f1\",\"labelId\":\"ce00345c-210e-4c35-9cb9-77350eddfdc7\",\"unitId\":null,\"extras\":{},\"id\":\"3874a1e4-0571-4f07-a44b-d87eacfdad2d\",\"groupId\":\"97cd1a62-a4f0-4de5-815d-3882fef2d948\",\"householdId\":\"7ad19b33-562d-40fd-9d92-4b350bebfb6d\",\"label\":{\"name\":\"Canned\",\"color\":\"#CD853F\",\"groupId\":\"97cd1a62-a4f0-4de5-815d-3882fef2d948\",\"id\":\"ce00345c-210e-4c35-9cb9-77350eddfdc7\"},\"recipeReferences\":[],\"createdAt\":\"2025-04-01T06:25:49.121430Z\",\"updatedAt\":\"2025-04-01T06:25:55.885412Z\"},{\"quantity\":0.0,\"unit\":null,\"food\":{\"id\":\"4c12ceef-6297-4c88-9a51-f57fc69ea591\",\"name\":\"evaporated milk\",\"pluralName\":null,\"description\":\"\",\"extras\":{},\"labelId\":\"ce00345c-210e-4c35-9cb9-77350eddfdc7\",\"aliases\":[],\"householdsWithIngredientFood\":[],\"label\":{\"name\":\"Canned\",\"color\":\"#CD853F\",\"groupId\":\"97cd1a62-a4f0-4de5-815d-3882fef2d948\",\"id\":\"ce00345c-210e-4c35-9cb9-77350eddfdc7\"},\"createdAt\":\"2025-03-26T05:31:50.904850Z\",\"updatedAt\":\"2025-03-26T05:56:45.757069Z\"},\"note\":\"Costco Business Center\",\"isFood\":true,\"disableAmount\":false,\"display\":\"evaporated milk Costco Business Center\",\"shoppingListId\":\"56fb8d06-18b6-4d8a-abba-6afec00930d6\",\"checked\":false,\"position\":0,\"foodId\":\"4c12ceef-6297-4c88-9a51-f57fc69ea591\",\"labelId\":\"ce00345c-210e-4c35-9cb9-77350eddfdc7\",\"unitId\":null,\"extras\":{},\"id\":\"30185559-4487-4bce-a762-c1ec8fdca896\",\"groupId\":\"97cd1a62-a4f0-4de5-815d-3882fef2d948\",\"householdId\":\"7ad19b33-562d-40fd-9d92-4b350bebfb6d\",\"label\":{\"name\":\"Canned\",\"color\":\"#CD853F\",\"groupId\":\"97cd1a62-a4f0-4de5-815d-3882fef2d948\",\"id\":\"ce00345c-210e-4c35-9cb9-77350eddfdc7\"},\"recipeReferences\":[],\"createdAt\":\"2025-03-31T19:36:48.215298Z\",\"updatedAt\":\"2025-04-05T19:33:14.407354Z\"},{\"quantity\":1.0,\"unit\":null,\"food\":null,\"note\":\"diapers\",\"isFood\":false,\"disableAmount\":true,\"display\":\"diapers\",\"shoppingListId\":\"56fb8d06-18b6-4d8a-abba-6afec00930d6\",\"checked\":false,\"position\":0,\"foodId\":null,\"labelId\":\"6676c6cc-533a-4e9a-87cb-f5d67d4da830\",\"unitId\":null,\"extras\":{},\"id\":\"8e6dc5ff-7c9a-4d17-b4e0-594783e69bc5\",\"groupId\":\"97cd1a62-a4f0-4de5-815d-3882fef2d948\",\"householdId\":\"7ad19b33-562d-40fd-9d92-4b350bebfb6d\",\"label\":{\"name\":\"Household\",\"color\":\"#708090\",\"groupId\":\"97cd1a62-a4f0-4de5-815d-3882fef2d948\",\"id\":\"6676c6cc-533a-4e9a-87cb-f5d67d4da830\"},\"recipeReferences\":[],\"createdAt\":\"2025-04-13T23:43:10.587209Z\",\"updatedAt\":\"2025-04-13T23:43:10.587212Z\"},{\"quantity\":1.0,\"unit\":null,\"food\":null,\"note\":\"lemons\",\"isFood\":false,\"disableAmount\":true,\"display\":\"lemons\",\"shoppingListId\":\"56fb8d06-18b6-4d8a-abba-6afec00930d6\",\"checked\":false,\"position\":0,\"foodId\":null,\"labelId\":\"0f288216-7f78-4454-9109-df1da9cdd8c2\",\"unitId\":null,\"extras\":{},\"id\":\"df18dddf-576a-4e27-82da-6c4a8221858b\",\"groupId\":\"97cd1a62-a4f0-4de5-815d-3882fef2d948\",\"householdId\":\"7ad19b33-562d-40fd-9d92-4b350bebfb6d\",\"label\":{\"name\":\"Produce\",\"color\":\"#228B22\",\"groupId\":\"97cd1a62-a4f0-4de5-815d-3882fef2d948\",\"id\":\"0f288216-7f78-4454-9109-df1da9cdd8c2\"},\"recipeReferences\":[],\"createdAt\":\"2025-04-14T03:05:20.089745Z\",\"updatedAt\":\"2025-04-14T03:05:20.089748Z\"},{\"quantity\":1.0,\"unit\":null,\"food\":null,\"note\":\"oranges\",\"isFood\":false,\"disableAmount\":true,\"display\":\"oranges\",\"shoppingListId\":\"56fb8d06-18b6-4d8a-abba-6afec00930d6\",\"checked\":false,\"position\":0,\"foodId\":null,\"labelId\":\"0f288216-7f78-4454-9109-df1da9cdd8c2\",\"unitId\":null,\"extras\":{},\"id\":\"5eb496bb-c280-4c86-8d2f-daa3d8c7fd98\",\"groupId\":\"97cd1a62-a4f0-4de5-815d-3882fef2d948\",\"householdId\":\"7ad19b33-562d-40fd-9d92-4b350bebfb6d\",\"label\":{\"name\":\"Produce\",\"color\":\"#228B22\",\"groupId\":\"97cd1a62-a4f0-4de5-815d-3882fef2d948\",\"id\":\"0f288216-7f78-4454-9109-df1da9cdd8c2\"},\"recipeReferences\":[],\"createdAt\":\"2025-04-14T03:05:19.447624Z\",\"updatedAt\":\"2025-04-14T03:05:19.447627Z\"},{\"quantity\":1.0,\"unit\":null,\"food\":null,\"note\":\"tomatoes\",\"isFood\":false,\"disableAmount\":true,\"display\":\"tomatoes\",\"shoppingListId\":\"56fb8d06-18b6-4d8a-abba-6afec00930d6\",\"checked\":false,\"position\":0,\"foodId\":null,\"labelId\":\"0f288216-7f78-4454-9109-df1da9cdd8c2\",\"unitId\":null,\"extras\":{},\"id\":\"f65c2471-7a2b-4bd7-997a-879a9b72d7d1\",\"groupId\":\"97cd1a62-a4f0-4de5-815d-3882fef2d948\",\"householdId\":\"7ad19b33-562d-40fd-9d92-4b350bebfb6d\",\"label\":{\"name\":\"Produce\",\"color\":\"#228B22\",\"groupId\":\"97cd1a62-a4f0-4de5-815d-3882fef2d948\",\"id\":\"0f288216-7f78-4454-9109-df1da9cdd8c2\"},\"recipeReferences\":[],\"createdAt\":\"2025-04-14T02:59:27.324326Z\",\"updatedAt\":\"2025-04-14T02:59:27.324329Z\"},{\"quantity\":0.0,\"unit\":null,\"food\":{\"id\":\"a2d19a59-e857-4c46-baf5-7e7ad3840d06\",\"name\":\"sesame oil\",\"pluralName\":null,\"description\":\"\",\"extras\":{},\"labelId\":\"ddab9d19-45dd-4ad2-8c84-d61fe2a14f6f\",\"aliases\":[],\"householdsWithIngredientFood\":[\"huang-household\"],\"label\":{\"name\":\"Seasoning\",\"color\":\"#8B4513\",\"groupId\":\"97cd1a62-a4f0-4de5-815d-3882fef2d948\",\"id\":\"ddab9d19-45dd-4ad2-8c84-d61fe2a14f6f\"},\"createdAt\":\"2025-03-26T05:32:28.996417Z\",\"updatedAt\":\"2025-03-26T05:32:28.996419Z\"},\"note\":\"99 Ranch\",\"isFood\":true,\"disableAmount\":false,\"display\":\"sesame oil 99 Ranch\",\"shoppingListId\":\"56fb8d06-18b6-4d8a-abba-6afec00930d6\",\"checked\":false,\"position\":8,\"foodId\":\"a2d19a59-e857-4c46-baf5-7e7ad3840d06\",\"labelId\":\"ddab9d19-45dd-4ad2-8c84-d61fe2a14f6f\",\"unitId\":null,\"extras\":{},\"id\":\"31b49ba2-e57b-4b89-b3e4-2cb7bd676eb6\",\"groupId\":\"97cd1a62-a4f0-4de5-815d-3882fef2d948\",\"householdId\":\"7ad19b33-562d-40fd-9d92-4b350bebfb6d\",\"label\":{\"name\":\"Seasoning\",\"color\":\"#8B4513\",\"groupId\":\"97cd1a62-a4f0-4de5-815d-3882fef2d948\",\"id\":\"ddab9d19-45dd-4ad2-8c84-d61fe2a14f6f\"},\"recipeReferences\":[],\"createdAt\":\"2025-04-01T06:26:51.191951Z\",\"updatedAt\":\"2025-04-01T06:26:51.191954Z\"},{\"quantity\":0.0,\"unit\":null,\"food\":{\"id\":\"08cb531d-8906-4f4f-b68d-00dd803c9137\",\"name\":\"Japanese red pickled ginger\",\"pluralName\":null,\"description\":\"aka beni shoga\",\"extras\":{},\"labelId\":\"ddab9d19-45dd-4ad2-8c84-d61fe2a14f6f\",\"aliases\":[{\"name\":\"beni shoga\"}],\"householdsWithIngredientFood\":[],\"label\":{\"name\":\"Seasoning\",\"color\":\"#8B4513\",\"groupId\":\"97cd1a62-a4f0-4de5-815d-3882fef2d948\",\"id\":\"ddab9d19-45dd-4ad2-8c84-d61fe2a14f6f\"},\"createdAt\":\"2025-03-26T05:31:36.231353Z\",\"updatedAt\":\"2025-03-26T22:20:29.230595Z\"},\"note\":\"99 Ranch, Tokyo Central\",\"isFood\":true,\"disableAmount\":false,\"display\":\"Japanese red pickled ginger 99 Ranch, Tokyo Central\",\"shoppingListId\":\"56fb8d06-18b6-4d8a-abba-6afec00930d6\",\"checked\":false,\"position\":7,\"foodId\":\"08cb531d-8906-4f4f-b68d-00dd803c9137\",\"labelId\":\"ddab9d19-45dd-4ad2-8c84-d61fe2a14f6f\",\"unitId\":null,\"extras\":{},\"id\":\"1755edc9-9d40-47fe-8a7f-8ffc42aeb28f\",\"groupId\":\"97cd1a62-a4f0-4de5-815d-3882fef2d948\",\"householdId\":\"7ad19b33-562d-40fd-9d92-4b350bebfb6d\",\"label\":{\"name\":\"Seasoning\",\"color\":\"#8B4513\",\"groupId\":\"97cd1a62-a4f0-4de5-815d-3882fef2d948\",\"id\":\"ddab9d19-45dd-4ad2-8c84-d61fe2a14f6f\"},\"recipeReferences\":[],\"createdAt\":\"2025-04-01T06:26:44.425610Z\",\"updatedAt\":\"2025-04-01T06:26:44.425613Z\"},{\"quantity\":0.0,\"unit\":null,\"food\":{\"id\":\"bb625765-282d-49cf-b575-f9af169470b6\",\"name\":\"sugar\",\"pluralName\":null,\"description\":\"\",\"extras\":{},\"labelId\":\"ddab9d19-45dd-4ad2-8c84-d61fe2a14f6f\",\"aliases\":[],\"householdsWithIngredientFood\":[\"huang-household\"],\"label\":{\"name\":\"Seasoning\",\"color\":\"#8B4513\",\"groupId\":\"97cd1a62-a4f0-4de5-815d-3882fef2d948\",\"id\":\"ddab9d19-45dd-4ad2-8c84-d61fe2a14f6f\"},\"createdAt\":\"2025-03-26T05:32:32.271909Z\",\"updatedAt\":\"2025-03-26T05:32:32.271912Z\"},\"note\":\"4 lbs, Walmart\",\"isFood\":true,\"disableAmount\":false,\"display\":\"sugar 4 lbs, Walmart\",\"shoppingListId\":\"56fb8d06-18b6-4d8a-abba-6afec00930d6\",\"checked\":false,\"position\":6,\"foodId\":\"bb625765-282d-49cf-b575-f9af169470b6\",\"labelId\":\"ddab9d19-45dd-4ad2-8c84-d61fe2a14f6f\",\"unitId\":null,\"extras\":{},\"id\":\"491f4216-7059-415c-b315-be70422264e3\",\"groupId\":\"97cd1a62-a4f0-4de5-815d-3882fef2d948\",\"householdId\":\"7ad19b33-562d-40fd-9d92-4b350bebfb6d\",\"label\":{\"name\":\"Seasoning\",\"color\":\"#8B4513\",\"groupId\":\"97cd1a62-a4f0-4de5-815d-3882fef2d948\",\"id\":\"ddab9d19-45dd-4ad2-8c84-d61fe2a14f6f\"},\"recipeReferences\":[],\"createdAt\":\"2025-04-01T06:26:28.121884Z\",\"updatedAt\":\"2025-04-01T06:26:28.121886Z\"},{\"quantity\":0.0,\"unit\":null,\"food\":{\"id\":\"fa3c6d61-c8e1-4030-acbb-de50d6f82c4f\",\"name\":\"almond milk\",\"pluralName\":null,\"description\":\"\",\"extras\":{},\"labelId\":\"6551243a-8428-4044-be6d-62a362d19bae\",\"aliases\":[],\"householdsWithIngredientFood\":[],\"label\":{\"name\":\"Beverages\",\"color\":\"#4682B4\",\"groupId\":\"97cd1a62-a4f0-4de5-815d-3882fef2d948\",\"id\":\"6551243a-8428-4044-be6d-62a362d19bae\"},\"createdAt\":\"2025-04-08T22:43:05.762993Z\",\"updatedAt\":\"2025-04-08T22:43:20.103145Z\"},\"note\":\"Costco\",\"isFood\":true,\"disableAmount\":false,\"display\":\"almond milk Costco\",\"shoppingListId\":\"56fb8d06-18b6-4d8a-abba-6afec00930d6\",\"checked\":false,\"position\":12,\"foodId\":\"fa3c6d61-c8e1-4030-acbb-de50d6f82c4f\",\"labelId\":\"6551243a-8428-4044-be6d-62a362d19bae\",\"unitId\":null,\"extras\":{},\"id\":\"fd8d577c-6551-44fd-b868-e33d3fd658dc\",\"groupId\":\"97cd1a62-a4f0-4de5-815d-3882fef2d948\",\"householdId\":\"7ad19b33-562d-40fd-9d92-4b350bebfb6d\",\"label\":{\"name\":\"Beverages\",\"color\":\"#4682B4\",\"groupId\":\"97cd1a62-a4f0-4de5-815d-3882fef2d948\",\"id\":\"6551243a-8428-4044-be6d-62a362d19bae\"},\"recipeReferences\":[],\"createdAt\":\"2025-04-08T22:43:25.834829Z\",\"updatedAt\":\"2025-04-08T22:43:25.834832Z\"},{\"quantity\":2.0,\"unit\":null,\"food\":{\"id\":\"d281794c-2be5-498e-bf2f-d86f2ee6e420\",\"name\":\"roma tomato\",\"pluralName\":\"roma tomatoes\",\"description\":\"\",\"extras\":{},\"labelId\":\"0f288216-7f78-4454-9109-df1da9cdd8c2\",\"aliases\":[],\"householdsWithIngredientFood\":[],\"label\":{\"name\":\"Produce\",\"color\":\"#228B22\",\"groupId\":\"97cd1a62-a4f0-4de5-815d-3882fef2d948\",\"id\":\"0f288216-7f78-4454-9109-df1da9cdd8c2\"},\"createdAt\":\"2025-03-26T05:32:27.464701Z\",\"updatedAt\":\"2025-03-26T05:32:27.464703Z\"},\"note\":\"large\",\"isFood\":true,\"disableAmount\":false,\"display\":\"2 roma tomatoes large\",\"shoppingListId\":\"56fb8d06-18b6-4d8a-abba-6afec00930d6\",\"checked\":true,\"position\":17,\"foodId\":\"d281794c-2be5-498e-bf2f-d86f2ee6e420\",\"labelId\":\"0f288216-7f78-4454-9109-df1da9cdd8c2\",\"unitId\":null,\"extras\":{},\"id\":\"e57f539f-28ca-4ff5-9a90-cc9ef28b61fa\",\"groupId\":\"97cd1a62-a4f0-4de5-815d-3882fef2d948\",\"householdId\":\"7ad19b33-562d-40fd-9d92-4b350bebfb6d\",\"label\":{\"name\":\"Produce\",\"color\":\"#228B22\",\"groupId\":\"97cd1a62-a4f0-4de5-815d-3882fef2d948\",\"id\":\"0f288216-7f78-4454-9109-df1da9cdd8c2\"},\"recipeReferences\":[],\"createdAt\":\"2025-04-08T01:05:39.923229Z\",\"updatedAt\":\"2025-04-08T20:37:28.662134Z\"},{\"quantity\":0.0,\"unit\":null,\"food\":null,\"note\":\"infant tylenol\",\"isFood\":false,\"disableAmount\":true,\"display\":\"infant tylenol\",\"shoppingListId\":\"56fb8d06-18b6-4d8a-abba-6afec00930d6\",\"checked\":true,\"position\":6,\"foodId\":null,\"labelId\":\"384cbe62-7079-483b-b7fa-fae10a481967\",\"unitId\":null,\"extras\":{},\"id\":\"db4671b8-4a84-4552-a8af-255fe02ee0d5\",\"groupId\":\"97cd1a62-a4f0-4de5-815d-3882fef2d948\",\"householdId\":\"7ad19b33-562d-40fd-9d92-4b350bebfb6d\",\"label\":{\"name\":\"Health\",\"color\":\"#2E8B57\",\"groupId\":\"97cd1a62-a4f0-4de5-815d-3882fef2d948\",\"id\":\"384cbe62-7079-483b-b7fa-fae10a481967\"},\"recipeReferences\":[],\"createdAt\":\"2025-04-05T17:58:19.999132Z\",\"updatedAt\":\"2025-04-05T19:21:31.769484Z\"},{\"quantity\":0.0,\"unit\":null,\"food\":{\"id\":\"3ed3f2c5-5a81-4bd5-bc4d-9fcae20b9cd1\",\"name\":\"onion\",\"pluralName\":\"onions\",\"description\":\"\",\"extras\":{},\"labelId\":\"0f288216-7f78-4454-9109-df1da9cdd8c2\",\"aliases\":[],\"householdsWithIngredientFood\":[],\"label\":{\"name\":\"Produce\",\"color\":\"#228B22\",\"groupId\":\"97cd1a62-a4f0-4de5-815d-3882fef2d948\",\"id\":\"0f288216-7f78-4454-9109-df1da9cdd8c2\"},\"createdAt\":\"2025-03-26T05:32:07.118334Z\",\"updatedAt\":\"2025-03-26T06:19:23.958980Z\"},\"note\":\"diced\",\"isFood\":true,\"disableAmount\":false,\"display\":\"onions diced\",\"shoppingListId\":\"56fb8d06-18b6-4d8a-abba-6afec00930d6\",\"checked\":true,\"position\":17,\"foodId\":\"3ed3f2c5-5a81-4bd5-bc4d-9fcae20b9cd1\",\"labelId\":\"0f288216-7f78-4454-9109-df1da9cdd8c2\",\"unitId\":null,\"extras\":{},\"id\":\"1f667f15-f2a1-44f4-8ecd-366fbed3a211\",\"groupId\":\"97cd1a62-a4f0-4de5-815d-3882fef2d948\",\"householdId\":\"7ad19b33-562d-40fd-9d92-4b350bebfb6d\",\"label\":{\"name\":\"Produce\",\"color\":\"#228B22\",\"groupId\":\"97cd1a62-a4f0-4de5-815d-3882fef2d948\",\"id\":\"0f288216-7f78-4454-9109-df1da9cdd8c2\"},\"recipeReferences\":[],\"createdAt\":\"2025-04-08T01:05:39.923237Z\",\"updatedAt\":\"2025-04-08T20:37:27.898044Z\"},{\"quantity\":0.0,\"unit\":null,\"food\":null,\"note\":\"allergy medicine, such as fexofenadine (Allegra) or cetirizine (Zyrtec)\",\"isFood\":false,\"disableAmount\":true,\"display\":\"allergy medicine, such as fexofenadine (Allegra) or cetirizine (Zyrtec)\",\"shoppingListId\":\"56fb8d06-18b6-4d8a-abba-6afec00930d6\",\"checked\":true,\"position\":12,\"foodId\":null,\"labelId\":\"384cbe62-7079-483b-b7fa-fae10a481967\",\"unitId\":null,\"extras\":{},\"id\":\"43aff249-2da4-44c5-b8a9-09ac48b786ad\",\"groupId\":\"97cd1a62-a4f0-4de5-815d-3882fef2d948\",\"householdId\":\"7ad19b33-562d-40fd-9d92-4b350bebfb6d\",\"label\":{\"name\":\"Health\",\"color\":\"#2E8B57\",\"groupId\":\"97cd1a62-a4f0-4de5-815d-3882fef2d948\",\"id\":\"384cbe62-7079-483b-b7fa-fae10a481967\"},\"recipeReferences\":[],\"createdAt\":\"2025-03-30T16:03:16.073465Z\",\"updatedAt\":\"2025-04-05T19:21:31.262223Z\"},{\"quantity\":0.0,\"unit\":null,\"food\":null,\"note\":\"drinks\",\"isFood\":false,\"disableAmount\":true,\"display\":\"drinks\",\"shoppingListId\":\"56fb8d06-18b6-4d8a-abba-6afec00930d6\",\"checked\":true,\"position\":12,\"foodId\":null,\"labelId\":\"6551243a-8428-4044-be6d-62a362d19bae\",\"unitId\":null,\"extras\":{},\"id\":\"e11b42e3-088c-452d-8d94-a181ba16587a\",\"groupId\":\"97cd1a62-a4f0-4de5-815d-3882fef2d948\",\"householdId\":\"7ad19b33-562d-40fd-9d92-4b350bebfb6d\",\"label\":{\"name\":\"Beverages\",\"color\":\"#4682B4\",\"groupId\":\"97cd1a62-a4f0-4de5-815d-3882fef2d948\",\"id\":\"6551243a-8428-4044-be6d-62a362d19bae\"},\"recipeReferences\":[],\"createdAt\":\"2025-04-01T06:25:31.099498Z\",\"updatedAt\":\"2025-04-05T19:04:49.908496Z\"},{\"quantity\":0.0,\"unit\":null,\"food\":{\"id\":\"caa3958d-0d51-433e-b33b-3569ed681586\",\"name\":\"avocado oil\",\"pluralName\":null,\"description\":\"\",\"extras\":{},\"labelId\":\"ddab9d19-45dd-4ad2-8c84-d61fe2a14f6f\",\"aliases\":[],\"householdsWithIngredientFood\":[\"huang-household\"],\"label\":{\"name\":\"Seasoning\",\"color\":\"#8B4513\",\"groupId\":\"97cd1a62-a4f0-4de5-815d-3882fef2d948\",\"id\":\"ddab9d19-45dd-4ad2-8c84-d61fe2a14f6f\"},\"createdAt\":\"2025-03-26T05:31:34.595534Z\",\"updatedAt\":\"2025-03-26T05:31:34.595536Z\"},\"note\":\"only if on sale (under $0.37/oz), Costco\",\"isFood\":true,\"disableAmount\":false,\"display\":\"avocado oil only if on sale (under $0.37/oz), Costco\",\"shoppingListId\":\"56fb8d06-18b6-4d8a-abba-6afec00930d6\",\"checked\":true,\"position\":8,\"foodId\":\"caa3958d-0d51-433e-b33b-3569ed681586\",\"labelId\":\"ddab9d19-45dd-4ad2-8c84-d61fe2a14f6f\",\"unitId\":null,\"extras\":{},\"id\":\"6daf96c4-47a2-4cf5-8235-5bb6533c55f1\",\"groupId\":\"97cd1a62-a4f0-4de5-815d-3882fef2d948\",\"householdId\":\"7ad19b33-562d-40fd-9d92-4b350bebfb6d\",\"label\":{\"name\":\"Seasoning\",\"color\":\"#8B4513\",\"groupId\":\"97cd1a62-a4f0-4de5-815d-3882fef2d948\",\"id\":\"ddab9d19-45dd-4ad2-8c84-d61fe2a14f6f\"},\"recipeReferences\":[],\"createdAt\":\"2025-04-01T06:28:21.099421Z\",\"updatedAt\":\"2025-04-05T19:12:54.742833Z\"},{\"quantity\":0.0,\"unit\":null,\"food\":{\"id\":\"52d22692-19bd-43bc-8036-72b455304a5d\",\"name\":\"garlic\",\"pluralName\":null,\"description\":\"\",\"extras\":{},\"labelId\":\"0f288216-7f78-4454-9109-df1da9cdd8c2\",\"aliases\":[],\"householdsWithIngredientFood\":[\"huang-household\"],\"label\":{\"name\":\"Produce\",\"color\":\"#228B22\",\"groupId\":\"97cd1a62-a4f0-4de5-815d-3882fef2d948\",\"id\":\"0f288216-7f78-4454-9109-df1da9cdd8c2\"},\"createdAt\":\"2025-03-26T06:48:06.598796Z\",\"updatedAt\":\"2025-03-26T07:05:24.345733Z\"},\"note\":\"peeled, Costco Business Center\",\"isFood\":true,\"disableAmount\":false,\"display\":\"garlic peeled, Costco Business Center\",\"shoppingListId\":\"56fb8d06-18b6-4d8a-abba-6afec00930d6\",\"checked\":true,\"position\":11,\"foodId\":\"52d22692-19bd-43bc-8036-72b455304a5d\",\"labelId\":\"0f288216-7f78-4454-9109-df1da9cdd8c2\",\"unitId\":null,\"extras\":{},\"id\":\"3ce3dfb4-ae4f-4181-bad0-cb2ee2d5dd57\",\"groupId\":\"97cd1a62-a4f0-4de5-815d-3882fef2d948\",\"householdId\":\"7ad19b33-562d-40fd-9d92-4b350bebfb6d\",\"label\":{\"name\":\"Produce\",\"color\":\"#228B22\",\"groupId\":\"97cd1a62-a4f0-4de5-815d-3882fef2d948\",\"id\":\"0f288216-7f78-4454-9109-df1da9cdd8c2\"},\"recipeReferences\":[],\"createdAt\":\"2025-04-01T06:26:12.270151Z\",\"updatedAt\":\"2025-04-05T19:05:19.636440Z\"},{\"quantity\":0.0,\"unit\":null,\"food\":{\"id\":\"e1470f57-c6e3-4e92-8e74-abc75c85f0a3\",\"name\":\"unsalted butter\",\"pluralName\":null,\"description\":\"\",\"extras\":{},\"labelId\":\"8401574d-f620-41d5-91eb-ff782a4b4bcf\",\"aliases\":[],\"householdsWithIngredientFood\":[\"huang-household\"],\"label\":{\"name\":\"Dairy\",\"color\":\"#F5DEB3\",\"groupId\":\"97cd1a62-a4f0-4de5-815d-3882fef2d948\",\"id\":\"8401574d-f620-41d5-91eb-ff782a4b4bcf\"},\"createdAt\":\"2025-03-26T05:32:34.190760Z\",\"updatedAt\":\"2025-03-26T05:32:34.190762Z\"},\"note\":\"Costco\",\"isFood\":true,\"disableAmount\":false,\"display\":\"unsalted butter Costco\",\"shoppingListId\":\"56fb8d06-18b6-4d8a-abba-6afec00930d6\",\"checked\":true,\"position\":11,\"foodId\":\"e1470f57-c6e3-4e92-8e74-abc75c85f0a3\",\"labelId\":\"8401574d-f620-41d5-91eb-ff782a4b4bcf\",\"unitId\":null,\"extras\":{},\"id\":\"fae7a4b4-50cd-43a0-96ff-07c91fe81116\",\"groupId\":\"97cd1a62-a4f0-4de5-815d-3882fef2d948\",\"householdId\":\"7ad19b33-562d-40fd-9d92-4b350bebfb6d\",\"label\":{\"name\":\"Dairy\",\"color\":\"#F5DEB3\",\"groupId\":\"97cd1a62-a4f0-4de5-815d-3882fef2d948\",\"id\":\"8401574d-f620-41d5-91eb-ff782a4b4bcf\"},\"recipeReferences\":[],\"createdAt\":\"2025-04-01T06:26:03.155926Z\",\"updatedAt\":\"2025-04-05T19:06:32.191337Z\"},{\"quantity\":0.0,\"unit\":null,\"food\":{\"id\":\"b29d7171-d429-4c36-b360-8a421095241d\",\"name\":\"diapers\",\"pluralName\":null,\"description\":\"\",\"extras\":{},\"labelId\":\"6676c6cc-533a-4e9a-87cb-f5d67d4da830\",\"aliases\":[],\"householdsWithIngredientFood\":[],\"label\":{\"name\":\"Household\",\"color\":\"#708090\",\"groupId\":\"97cd1a62-a4f0-4de5-815d-3882fef2d948\",\"id\":\"6676c6cc-533a-4e9a-87cb-f5d67d4da830\"},\"createdAt\":\"2025-04-01T06:28:48.479665Z\",\"updatedAt\":\"2025-04-01T06:28:56.475687Z\"},\"note\":\"size 1, Huggies, Costco\",\"isFood\":true,\"disableAmount\":false,\"display\":\"diapers size 1, Huggies, Costco\",\"shoppingListId\":\"56fb8d06-18b6-4d8a-abba-6afec00930d6\",\"checked\":true,\"position\":6,\"foodId\":\"b29d7171-d429-4c36-b360-8a421095241d\",\"labelId\":\"6676c6cc-533a-4e9a-87cb-f5d67d4da830\",\"unitId\":null,\"extras\":{},\"id\":\"83b3ddd5-ad87-424e-b8c9-c043b2dfad73\",\"groupId\":\"97cd1a62-a4f0-4de5-815d-3882fef2d948\",\"householdId\":\"7ad19b33-562d-40fd-9d92-4b350bebfb6d\",\"label\":{\"name\":\"Household\",\"color\":\"#708090\",\"groupId\":\"97cd1a62-a4f0-4de5-815d-3882fef2d948\",\"id\":\"6676c6cc-533a-4e9a-87cb-f5d67d4da830\"},\"recipeReferences\":[],\"createdAt\":\"2025-04-01T06:28:57.749797Z\",\"updatedAt\":\"2025-04-06T03:31:03.186697Z\"},{\"quantity\":0.0,\"unit\":null,\"food\":null,\"note\":\"pork belly\",\"isFood\":false,\"disableAmount\":true,\"display\":\"pork belly\",\"shoppingListId\":\"56fb8d06-18b6-4d8a-abba-6afec00930d6\",\"checked\":true,\"position\":12,\"foodId\":null,\"labelId\":\"8eaf532d-c4d4-4a0e-b02a-a65dde8949b4\",\"unitId\":null,\"extras\":{},\"id\":\"3c5cfbd9-64bb-4c11-a654-0713c362631e\",\"groupId\":\"97cd1a62-a4f0-4de5-815d-3882fef2d948\",\"householdId\":\"7ad19b33-562d-40fd-9d92-4b350bebfb6d\",\"label\":{\"name\":\"Meat\",\"color\":\"#B22222\",\"groupId\":\"97cd1a62-a4f0-4de5-815d-3882fef2d948\",\"id\":\"8eaf532d-c4d4-4a0e-b02a-a65dde8949b4\"},\"recipeReferences\":[],\"createdAt\":\"2025-04-05T17:58:35.546419Z\",\"updatedAt\":\"2025-04-05T18:56:38.102448Z\"},{\"quantity\":2.0,\"unit\":{\"id\":\"db2c85d7-d1b4-45b5-9dcd-dc2c8589674d\",\"name\":\"tablespoon\",\"pluralName\":\"tablespoons\",\"description\":\"\",\"extras\":{},\"fraction\":true,\"abbreviation\":\"tbsp\",\"pluralAbbreviation\":null,\"useAbbreviation\":true,\"aliases\":[],\"createdAt\":\"2025-03-24T21:20:18.495047Z\",\"updatedAt\":\"2025-03-25T12:47:01.965393Z\"},\"food\":{\"id\":\"b793991f-dfdb-4bb3-aa9a-c6cc274cce63\",\"name\":\"cilantro\",\"pluralName\":null,\"description\":\"aka coriander\",\"extras\":{},\"labelId\":\"0f288216-7f78-4454-9109-df1da9cdd8c2\",\"aliases\":[{\"name\":\"coriander\"}],\"householdsWithIngredientFood\":[],\"label\":{\"name\":\"Produce\",\"color\":\"#228B22\",\"groupId\":\"97cd1a62-a4f0-4de5-815d-3882fef2d948\",\"id\":\"0f288216-7f78-4454-9109-df1da9cdd8c2\"},\"createdAt\":\"2025-03-26T05:31:21.326668Z\",\"updatedAt\":\"2025-03-28T05:53:48.139309Z\"},\"note\":\"freshly chopped\",\"isFood\":true,\"disableAmount\":false,\"display\":\"2 tbsp cilantro freshly chopped\",\"shoppingListId\":\"56fb8d06-18b6-4d8a-abba-6afec00930d6\",\"checked\":true,\"position\":12,\"foodId\":\"b793991f-dfdb-4bb3-aa9a-c6cc274cce63\",\"labelId\":\"0f288216-7f78-4454-9109-df1da9cdd8c2\",\"unitId\":\"db2c85d7-d1b4-45b5-9dcd-dc2c8589674d\",\"extras\":{},\"id\":\"d79ef477-9ee2-4a00-b455-b9c2e861df80\",\"groupId\":\"97cd1a62-a4f0-4de5-815d-3882fef2d948\",\"householdId\":\"7ad19b33-562d-40fd-9d92-4b350bebfb6d\",\"label\":{\"name\":\"Produce\",\"color\":\"#228B22\",\"groupId\":\"97cd1a62-a4f0-4de5-815d-3882fef2d948\",\"id\":\"0f288216-7f78-4454-9109-df1da9cdd8c2\"},\"recipeReferences\":[],\"createdAt\":\"2025-04-08T01:08:21.975418Z\",\"updatedAt\":\"2025-04-08T20:40:57.203219Z\"},{\"quantity\":0.0,\"unit\":null,\"food\":{\"id\":\"b793991f-dfdb-4bb3-aa9a-c6cc274cce63\",\"name\":\"cilantro\",\"pluralName\":null,\"description\":\"aka coriander\",\"extras\":{},\"labelId\":\"0f288216-7f78-4454-9109-df1da9cdd8c2\",\"aliases\":[{\"name\":\"coriander\"}],\"householdsWithIngredientFood\":[],\"label\":{\"name\":\"Produce\",\"color\":\"#228B22\",\"groupId\":\"97cd1a62-a4f0-4de5-815d-3882fef2d948\",\"id\":\"0f288216-7f78-4454-9109-df1da9cdd8c2\"},\"createdAt\":\"2025-03-26T05:31:21.326668Z\",\"updatedAt\":\"2025-03-28T05:53:48.139309Z\"},\"note\":\"chopped | freshly chopped, for garnish\",\"isFood\":true,\"disableAmount\":false,\"display\":\"cilantro chopped | freshly chopped, for garnish\",\"shoppingListId\":\"56fb8d06-18b6-4d8a-abba-6afec00930d6\",\"checked\":true,\"position\":13,\"foodId\":\"b793991f-dfdb-4bb3-aa9a-c6cc274cce63\",\"labelId\":\"0f288216-7f78-4454-9109-df1da9cdd8c2\",\"unitId\":null,\"extras\":{},\"id\":\"ce07d517-08df-4544-8ae6-85f1e43f0ca7\",\"groupId\":\"97cd1a62-a4f0-4de5-815d-3882fef2d948\",\"householdId\":\"7ad19b33-562d-40fd-9d92-4b350bebfb6d\",\"label\":{\"name\":\"Produce\",\"color\":\"#228B22\",\"groupId\":\"97cd1a62-a4f0-4de5-815d-3882fef2d948\",\"id\":\"0f288216-7f78-4454-9109-df1da9cdd8c2\"},\"recipeReferences\":[],\"createdAt\":\"2025-04-08T01:05:39.923241Z\",\"updatedAt\":\"2025-04-08T20:40:57.203217Z\"},{\"quantity\":1.0,\"unit\":null,\"food\":{\"id\":\"838ebe2a-284a-4b7f-9757-b8f7c1c1a1ca\",\"name\":\"lemon\",\"pluralName\":\"lemons\",\"description\":\"\",\"extras\":{},\"labelId\":\"0f288216-7f78-4454-9109-df1da9cdd8c2\",\"aliases\":[],\"householdsWithIngredientFood\":[],\"label\":{\"name\":\"Produce\",\"color\":\"#228B22\",\"groupId\":\"97cd1a62-a4f0-4de5-815d-3882fef2d948\",\"id\":\"0f288216-7f78-4454-9109-df1da9cdd8c2\"},\"createdAt\":\"2025-03-26T05:31:57.963894Z\",\"updatedAt\":\"2025-03-26T06:18:53.642546Z\"},\"note\":\"cut in wedges\",\"isFood\":true,\"disableAmount\":false,\"display\":\"1 lemon cut in wedges\",\"shoppingListId\":\"56fb8d06-18b6-4d8a-abba-6afec00930d6\",\"checked\":true,\"position\":14,\"foodId\":\"838ebe2a-284a-4b7f-9757-b8f7c1c1a1ca\",\"labelId\":\"0f288216-7f78-4454-9109-df1da9cdd8c2\",\"unitId\":null,\"extras\":{},\"id\":\"55c0eb20-5c58-43f6-b020-cc3deb0cfc2e\",\"groupId\":\"97cd1a62-a4f0-4de5-815d-3882fef2d948\",\"householdId\":\"7ad19b33-562d-40fd-9d92-4b350bebfb6d\",\"label\":{\"name\":\"Produce\",\"color\":\"#228B22\",\"groupId\":\"97cd1a62-a4f0-4de5-815d-3882fef2d948\",\"id\":\"0f288216-7f78-4454-9109-df1da9cdd8c2\"},\"recipeReferences\":[],\"createdAt\":\"2025-04-08T01:06:33.397525Z\",\"updatedAt\":\"2025-04-08T20:38:55.506904Z\"},{\"quantity\":4.0,\"unit\":null,\"food\":{\"id\":\"dacb4cb9-543b-4cfd-8617-4801f36d7b56\",\"name\":\"lime\",\"pluralName\":\"limes\",\"description\":\"\",\"extras\":{},\"labelId\":\"0f288216-7f78-4454-9109-df1da9cdd8c2\",\"aliases\":[],\"householdsWithIngredientFood\":[],\"label\":{\"name\":\"Produce\",\"color\":\"#228B22\",\"groupId\":\"97cd1a62-a4f0-4de5-815d-3882fef2d948\",\"id\":\"0f288216-7f78-4454-9109-df1da9cdd8c2\"},\"createdAt\":\"2025-03-26T05:31:59.626502Z\",\"updatedAt\":\"2025-03-26T06:19:00.607400Z\"},\"note\":\"cut in wedges | zested and juiced | cut in wedges | zested and juiced\",\"isFood\":true,\"disableAmount\":false,\"display\":\"4 limes cut in wedges | zested and juiced | cut in wedges | zested and juiced\",\"shoppingListId\":\"56fb8d06-18b6-4d8a-abba-6afec00930d6\",\"checked\":true,\"position\":15,\"foodId\":\"dacb4cb9-543b-4cfd-8617-4801f36d7b56\",\"labelId\":\"0f288216-7f78-4454-9109-df1da9cdd8c2\",\"unitId\":null,\"extras\":{},\"id\":\"3a8c3292-ea57-429d-82f1-fc3688edc679\",\"groupId\":\"97cd1a62-a4f0-4de5-815d-3882fef2d948\",\"householdId\":\"7ad19b33-562d-40fd-9d92-4b350bebfb6d\",\"label\":{\"name\":\"Produce\",\"color\":\"#228B22\",\"groupId\":\"97cd1a62-a4f0-4de5-815d-3882fef2d948\",\"id\":\"0f288216-7f78-4454-9109-df1da9cdd8c2\"},\"recipeReferences\":[],\"createdAt\":\"2025-04-08T01:05:39.923244Z\",\"updatedAt\":\"2025-04-08T20:38:49.334468Z\"}],\"next\":null,\"previous\":null}\n"
     ]
    }
   ],
   "source": [
    "response = requests.get(f\"{MEALIE_URL}/households/shopping/items?orderBy=checked&orderDirection=asc&page=1&perPage=100&checked=false\", \n",
    "                        headers=MEALIE_HEADERS)\n",
    "\n",
    "print(response.text)"
   ]
  }
 ],
 "metadata": {
  "kernelspec": {
   "display_name": "Python 3",
   "language": "python",
   "name": "python3"
  },
  "language_info": {
   "codemirror_mode": {
    "name": "ipython",
    "version": 3
   },
   "file_extension": ".py",
   "mimetype": "text/x-python",
   "name": "python",
   "nbconvert_exporter": "python",
   "pygments_lexer": "ipython3",
   "version": "3.13.2"
  }
 },
 "nbformat": 4,
 "nbformat_minor": 2
}
